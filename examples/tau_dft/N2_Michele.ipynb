{
 "cells": [
  {
   "cell_type": "markdown",
   "metadata": {},
   "source": [
    "# N$_2$ prototype - energy & rdm1"
   ]
  },
  {
   "cell_type": "code",
   "execution_count": 24,
   "metadata": {},
   "outputs": [],
   "source": [
    "import pyscf\n",
    "from pyscf import gto, scf, dft, ao2mo, fci\n",
    "import numpy as np\n",
    "import scipy.linalg as lin\n",
    "import matplotlib.pyplot as plt"
   ]
  },
  {
   "cell_type": "code",
   "execution_count": 25,
   "metadata": {},
   "outputs": [],
   "source": [
    "HARTREE_TO_eV = 27.311285"
   ]
  },
  {
   "cell_type": "code",
   "execution_count": 26,
   "metadata": {},
   "outputs": [
    {
     "data": {
      "text/plain": [
       "11562.0807045062"
      ]
     },
     "execution_count": 26,
     "metadata": {},
     "output_type": "execute_result"
    }
   ],
   "source": [
    "1.0/(0.3166808991e-5*27.311285)"
   ]
  },
  {
   "cell_type": "code",
   "execution_count": 27,
   "metadata": {},
   "outputs": [],
   "source": [
    "npoints = 20\n",
    "R_begin=1.0\n",
    "R_end=3.5\n",
    "R = np.linspace(start=R_begin,stop=R_end,num=npoints)"
   ]
  },
  {
   "cell_type": "code",
   "execution_count": 28,
   "metadata": {},
   "outputs": [],
   "source": [
    "def get_entropy(mf,mo_occ=None):\n",
    "    if mo_occ is None:\n",
    "        f = mf.get_occ()/2\n",
    "    else:\n",
    "        f = mo_occ\n",
    "    #print(f)\n",
    "    f = f[(f>0) & (f<1)]\n",
    "    return -2*(f*np.log(f) + (1-f)*np.log(1-f)).sum()"
   ]
  },
  {
   "cell_type": "code",
   "execution_count": 29,
   "metadata": {},
   "outputs": [],
   "source": [
    "def run_rks(mol_str,smear=False,tau=500,basis='sto-3g'):\n",
    "    mol = gto.M(atom=mol_str, basis=basis)\n",
    "    mol.smearing = smear\n",
    "    mol.tau = tau\n",
    "    mf = scf.RKS(mol)\n",
    "    mf.xc='PBE'\n",
    "    mf.run()\n",
    "    h1 = mf.mo_coeff.T.dot(mf.get_hcore()).dot(mf.mo_coeff)\n",
    "    rdm1=mf.make_rdm1()\n",
    "    T = mf.mol.intor_symmetric('int1e_kin')\n",
    "    Ekin = np.einsum('pq,qp', T, rdm1)*HARTREE_TO_eV\n",
    "    #print(\"Ts: \", Ekin)\n",
    "    #d = np.zeros(h1.shape[0])\n",
    "    s = mf.get_occ()\n",
    "    #for i in np.arange(h1.shape[0]):\n",
    "    #    d[i] = h1[i,i]\n",
    "    return s, mf, Ekin, mf.energy_tot()*HARTREE_TO_eV"
   ]
  },
  {
   "cell_type": "code",
   "execution_count": 30,
   "metadata": {},
   "outputs": [],
   "source": [
    "def run_fci(mol_str,basis='sto-3g'):\n",
    "    mol = gto.M(atom=mol_str, basis=basis)\n",
    "    mf = scf.RHF(mol)\n",
    "    mf.run()\n",
    "    norb=np.shape(mf.get_occ())[0]\n",
    "    h1 = mf.mo_coeff.T.dot(mf.get_hcore()).dot(mf.mo_coeff)\n",
    "    T = mf.mo_coeff.T.dot(mf.mol.intor_symmetric('int1e_kin')).dot(mf.mo_coeff)\n",
    "    eri = ao2mo.kernel(mol, mf.mo_coeff)\n",
    "    cisolver = fci.direct_spin1.FCI(mol)\n",
    "    e, ci = cisolver.kernel(h1, eri, h1.shape[1], mol.nelec, ecore=mol.energy_nuc())\n",
    "    rdm1=cisolver.make_rdm1(fcivec=ci,norb=norb,nelec=mol.nelec)\n",
    "    Ekin = np.einsum('pq,qp', T, rdm1)*HARTREE_TO_eV\n",
    "    #print(\"exact T: \", Ekin)\n",
    "    #d = np.zeros(h1.shape[0])\n",
    "    s = np.zeros(h1.shape[0])\n",
    "    for i in np.arange(h1.shape[0]):\n",
    "        #d[i] = h1[i,i]\n",
    "        s[i] = rdm1[i,i]\n",
    "    return s, mf, Ekin, e*HARTREE_TO_eV\n"
   ]
  },
  {
   "cell_type": "code",
   "execution_count": 31,
   "metadata": {},
   "outputs": [
    {
     "name": "stdout",
     "output_type": "stream",
     "text": [
      "converged SCF energy = -107.821869933871\n",
      "converged SCF energy = -107.942401287257\n",
      "converged SCF energy = -107.943995558421\n",
      "converged SCF energy = -107.896716495994\n",
      "converged SCF energy = -107.832224251543\n",
      "converged SCF energy = -107.764250372838\n",
      "converged SCF energy = -107.699042542775\n",
      "converged SCF energy = -107.63977812746\n",
      "converged SCF energy = -107.587962023914\n",
      "converged SCF energy = -107.543885672815\n",
      "converged SCF energy = -107.507034558049\n",
      "converged SCF energy = -107.476525236268\n",
      "converged SCF energy = -107.451447183883\n",
      "converged SCF energy = -107.431025092488\n",
      "converged SCF energy = -107.414617857425\n",
      "converged SCF energy = -107.401650671677\n",
      "converged SCF energy = -107.391577486776\n",
      "converged SCF energy = -107.383885426322\n",
      "converged SCF energy = -107.37810625786\n",
      "converged SCF energy = -107.373133326231\n"
     ]
    }
   ],
   "source": [
    "smear = False\n",
    "occupations_KS = []\n",
    "energies_KS = []\n",
    "calculations_KS = []\n",
    "Ekin_KS = []\n",
    "ener_KS = []\n",
    "for i in np.arange(npoints):\n",
    "    mol_str = \"N 0 0 0; N 0 0 \"+str(R[i])\n",
    "    s, mf, Ekin, e = run_rks(mol_str=mol_str, smear=smear)\n",
    "    occupations_KS.append(s)\n",
    "    calculations_KS.append(mf)\n",
    "    Ekin_KS.append(Ekin)\n",
    "    ener_KS.append(e)"
   ]
  },
  {
   "cell_type": "code",
   "execution_count": 32,
   "metadata": {},
   "outputs": [
    {
     "name": "stdout",
     "output_type": "stream",
     "text": [
      "converged SCF energy = -107.812353393329\n",
      "-0.31469459962738056\n",
      "converged SCF energy = -107.923138137958\n",
      "-0.6586414942344416\n",
      "converged SCF energy = -107.908428430596\n",
      "-1.26084976861114\n",
      "converged SCF energy = -107.839051462586\n",
      "-2.1630656087293634\n",
      "converged SCF energy = -107.753470825933\n",
      "-3.2180402651709596\n",
      "converged SCF energy = -107.672155432324\n",
      "-4.2160800087591515\n",
      "converged SCF energy = -107.602553807999\n",
      "-5.055149365432389\n",
      "converged SCF energy = -107.544589263695\n",
      "-5.758035597349006\n",
      "converged SCF energy = -107.496605624342\n",
      "-6.371895453717016\n",
      "converged SCF energy = -107.457977810395\n",
      "-6.902154933713992\n",
      "converged SCF energy = -107.428290184852\n",
      "-7.333582619451963\n",
      "converged SCF energy = -107.406488158254\n",
      "-7.662085879431891\n",
      "converged SCF energy = -107.391096274252\n",
      "-7.898220986524283\n",
      "converged SCF energy = -107.380633522511\n",
      "-8.059542022485651\n",
      "converged SCF energy = -107.373799019453\n",
      "-8.164630967070943\n",
      "converged SCF energy = -107.369510443631\n",
      "-8.230076601707946\n",
      "converged SCF energy = -107.366917290749\n",
      "-8.26917742596451\n",
      "converged SCF energy = -107.365399620992\n",
      "-8.291669553932039\n",
      "converged SCF energy = -107.364538420513\n",
      "-8.304190246952437\n",
      "converged SCF energy = -107.364062256252\n",
      "-8.310944903781156\n"
     ]
    }
   ],
   "source": [
    "tau = 11562.0807045062 #KT=1eV\n",
    "smear = True\n",
    "occupations_KS_tau = []\n",
    "energies_KS_tau = []\n",
    "calculations_KS_tau = []\n",
    "Ekin_KS_tau = []\n",
    "ener_KS_tau = []\n",
    "\n",
    "for i in np.arange(npoints):\n",
    "    mol_str = \"N 0 0 0; N 0 0 \"+str(R[i])\n",
    "    s, mf, Ekin, e = run_rks(mol_str=mol_str,tau=tau,smear=smear)\n",
    "    occupations_KS_tau.append(s)\n",
    "    calculations_KS_tau.append(mf)\n",
    "    if smear:\n",
    "        mTS=-0.3166808991e-5*tau*get_entropy(mf)*HARTREE_TO_eV\n",
    "    else:\n",
    "        mTS = 0.0\n",
    "    print(mTS)\n",
    "    Ekin_KS_tau.append(Ekin)\n",
    "    ener_KS_tau.append(e+mTS)"
   ]
  },
  {
   "cell_type": "code",
   "execution_count": 33,
   "metadata": {},
   "outputs": [
    {
     "name": "stdout",
     "output_type": "stream",
     "text": [
      "converged SCF energy = -107.419532451682\n",
      "converged SCF energy = -107.500636768427\n",
      "converged SCF energy = -107.457252921991\n",
      "converged SCF energy = -107.362132203022\n",
      "converged SCF energy = -107.24940947754\n",
      "converged SCF energy = -107.134758296324\n",
      "converged SCF energy = -107.025681096773\n",
      "converged SCF energy = -106.92600639124\n",
      "converged SCF energy = -106.837470759969\n",
      "converged SCF energy = -106.760345124188\n",
      "converged SCF energy = -106.69395956508\n",
      "converged SCF energy = -106.637217661578\n",
      "converged SCF energy = -106.588961464897\n",
      "converged SCF energy = -106.548129533341\n",
      "converged SCF energy = -106.513769284173\n",
      "converged SCF energy = -106.484999795986\n",
      "converged SCF energy = -106.460987163835\n",
      "converged SCF energy = -106.440947481562\n",
      "converged SCF energy = -106.424165767208\n",
      "converged SCF energy = -106.410014865762\n"
     ]
    }
   ],
   "source": [
    "occupations_FCI = []\n",
    "energies_FCI = []\n",
    "calculations_FCI = []\n",
    "Ekin_FCI = []\n",
    "ener_FCI = []\n",
    "for i in np.arange(npoints):\n",
    "    mol_str = \"N 0 0 0; N 0 0 \"+str(R[i])\n",
    "    s, mf, Ekin, e = run_fci(mol_str=mol_str)\n",
    "    occupations_FCI.append(s)\n",
    "    calculations_FCI.append(mf)\n",
    "    Ekin_FCI.append(Ekin)\n",
    "    ener_FCI.append(e)"
   ]
  },
  {
   "cell_type": "code",
   "execution_count": 34,
   "metadata": {},
   "outputs": [],
   "source": [
    "occupations_FCI = np.array(occupations_FCI,dtype=np.float)\n",
    "occupations_KS = np.array(occupations_KS,dtype=np.float)\n",
    "occupations_KS_tau = np.array(occupations_KS_tau,dtype=np.float)"
   ]
  },
  {
   "cell_type": "code",
   "execution_count": 37,
   "metadata": {},
   "outputs": [
    {
     "data": {
      "text/plain": [
       "array([[1.9999879 , 1.9999921 , 1.99328126, 1.98699361, 1.95127521,\n",
       "        1.95127521, 1.98954873, 0.05698166, 0.05698166, 0.01368265],\n",
       "       [1.99998977, 1.99999299, 1.99084543, 1.98622503, 1.92378002,\n",
       "        1.92378002, 1.98381747, 0.08480737, 0.08480737, 0.02195452],\n",
       "       [1.99999181, 1.99999394, 1.9885428 , 1.98598889, 1.97442466,\n",
       "        1.88263397, 1.88263397, 0.12577478, 0.12577478, 0.03424041],\n",
       "       [1.99999487, 1.99999359, 1.98668364, 1.9865436 , 1.95954827,\n",
       "        1.81987651, 1.81987651, 0.18768492, 0.18768492, 0.05211317],\n",
       "       [1.99999582, 1.99999506, 1.98543027, 1.98803426, 1.93505727,\n",
       "        1.72288164, 1.72288164, 0.28313468, 0.28313468, 0.07945469],\n",
       "       [1.99999683, 1.99999629, 1.98503612, 1.99020328, 1.88982744,\n",
       "        1.58213006, 1.58213006, 0.421903  , 0.421903  , 0.12687392],\n",
       "       [1.9999978 , 1.99999734, 1.98609722, 1.99221762, 1.80667535,\n",
       "        1.41626115, 1.41626115, 0.58596227, 0.58596227, 0.21056784],\n",
       "       [1.99999858, 1.99999815, 1.9887084 , 1.99348099, 1.68400751,\n",
       "        1.27124649, 1.27124649, 0.72982442, 0.72982442, 0.33166456],\n",
       "       [1.99999912, 1.99999874, 1.99185477, 1.99430178, 1.54757282,\n",
       "        1.17127949, 1.17127949, 0.82922952, 0.82922952, 0.46525477],\n",
       "       [1.99999947, 1.99999915, 1.99452784, 1.99512306, 1.42440722,\n",
       "        1.10936435, 1.10936435, 0.89089805, 0.89089805, 0.58541847],\n",
       "       [1.99999968, 1.99999943, 1.99642377, 1.99602493, 1.32467882,\n",
       "        1.07147812, 1.07147812, 0.92867251, 0.92867251, 0.68257212],\n",
       "       [1.9999998 , 1.99999962, 1.99766051, 1.99690641, 1.24704302,\n",
       "        1.04764104, 1.04764104, 0.95245356, 0.95245356, 0.75820144],\n",
       "       [1.99999988, 1.99999975, 1.99844281, 1.997674  , 1.18701824,\n",
       "        1.03212518, 1.03212518, 0.96793819, 0.96793819, 0.81673857],\n",
       "       [1.99999983, 1.99999993, 1.99893615, 1.99828935, 1.140539  ,\n",
       "        1.02176066, 1.02176066, 0.97828379, 0.97828379, 0.86214684],\n",
       "       [1.99999989, 1.99999996, 1.99925117, 1.99875542, 1.10458726,\n",
       "        1.01472973, 1.01472973, 0.98530252, 0.98530252, 0.8973418 ],\n",
       "       [1.99999993, 1.99999998, 1.99945686, 1.99909521, 1.0769531 ,\n",
       "        1.00992668, 1.00992668, 0.99009734, 0.99009734, 0.9244469 ],\n",
       "       [1.99999995, 1.99999999, 1.99959621, 1.99933995, 1.05537137,\n",
       "        1.00657671, 1.00657671, 0.99344154, 0.99344154, 0.94565603],\n",
       "       [1.99999997, 1.99999999, 1.99970283, 1.99953245, 1.03356157,\n",
       "        1.00366392, 1.00366392, 0.99635017, 0.99635017, 0.96717502],\n",
       "       [1.99999998, 2.        , 1.99976715, 1.99964666, 1.02262165,\n",
       "        1.00230027, 1.00230027, 0.99771078, 0.99771078, 0.97794248],\n",
       "       [1.99999998, 2.        , 1.99980987, 1.99971809, 1.0182274 ,\n",
       "        1.00172413, 1.00172413, 0.99828463, 0.99828463, 0.98222715]])"
      ]
     },
     "execution_count": 37,
     "metadata": {},
     "output_type": "execute_result"
    }
   ],
   "source": [
    "occupations_FCI"
   ]
  },
  {
   "cell_type": "code",
   "execution_count": 40,
   "metadata": {},
   "outputs": [
    {
     "data": {
      "image/png": "[encoded data removed]",
      "text/plain": [
       "<Figure size 864x576 with 4 Axes>"
      ]
     },
     "metadata": {
      "needs_background": "light"
     },
     "output_type": "display_data"
    }
   ],
   "source": [
    "font=11.5\n",
    "fig, ax = plt.subplots(2,2,figsize=(12,8))\n",
    "#\n",
    "ax[0,0].set_ylabel(\"Kinetic Energy / eV\")\n",
    "ax[0,0].plot(R,Ekin_FCI,label=r'FCI',color='black',linestyle='--')\n",
    "ax[0,0].plot(R,Ekin_KS,label=r'$K_B\\tau = 0$ eV',color='black',linestyle=':')\n",
    "ax[0,0].plot(R,Ekin_KS_tau,label=r'$K_B\\tau = 1$ eV',color='black',linestyle='-')\n",
    "#\n",
    "ax[0,1].set_ylabel(\"Total Energy / eV\")\n",
    "ax[0,1].plot(R,ener_FCI,label=r'FCI',color='black',linestyle='--')\n",
    "ax[0,1].plot(R,ener_KS,label=r'$K_B\\tau = 0$ eV',color='black',linestyle=':')\n",
    "ax[0,1].plot(R,ener_KS_tau,label=r'$K_B\\tau = 1$ eV',color='black',linestyle='-')\n",
    "#\n",
    "ax[1,0].set_ylabel(\"HOMO Occupation\")\n",
    "ax[1,0].plot(R,occupations_FCI[:,4],label=r'FCI',color='black',linestyle='--')\n",
    "ax[1,0].plot(R,occupations_KS[:,4],label=r'$K_B\\tau = 0$ eV',color='black',linestyle=':')\n",
    "ax[1,0].plot(R,occupations_KS_tau[:,4],label=r'$K_B\\tau = 1$ eV',color='black',linestyle='-')\n",
    "#ax[1,0].set_ylim([0,2])\n",
    "#\n",
    "ax[1,1].set_ylabel(\"Entropy / eV\")\n",
    "entropy_KS = np.zeros(npoints)\n",
    "entropy_KS_tau = np.zeros(npoints)\n",
    "entropy_FCI = np.zeros(npoints)\n",
    "for i in range(npoints):\n",
    "    #entropy_KS[i]=-0.3166808991e-5*tau*get_entropy(calculations_KS_tau[i])\n",
    "    entropy_KS_tau[i]=-0.3166808991e-5*tau*get_entropy(calculations_KS_tau[i])*HARTREE_TO_eV\n",
    "    entropy_FCI[i]=-0.3166808991e-5*tau*get_entropy(calculations_FCI[i],occupations_FCI[i,:])*HARTREE_TO_eV\n",
    "\n",
    "ax[1,1].plot(R,entropy_FCI,label=r'FCI',color='black',linestyle='--')\n",
    "ax[1,1].plot(R,entropy_KS,label=r'$K_B\\tau = 0$ eV',color='black',linestyle=':')\n",
    "ax[1,1].plot(R,entropy_KS_tau,label=r'$K_B\\tau = 1$ eV',color='black',linestyle='-')\n",
    "\n",
    "ax[0,0].legend(fontsize=font)\n",
    "#for i in 0, 1:\n",
    "#    for j in 0, 1:\n",
    "#        ax[i,j].legend(fontsize=font)\n",
    "plt.savefig(\"N2.pdf\")\n",
    "plt.show()"
   ]
  },
  {
   "cell_type": "code",
   "execution_count": null,
   "metadata": {},
   "outputs": [],
   "source": []
  },
  {
   "cell_type": "code",
   "execution_count": null,
   "metadata": {},
   "outputs": [],
   "source": []
  },
  {
   "cell_type": "markdown",
   "metadata": {},
   "source": [
    "# prototyping natural orbitals"
   ]
  },
  {
   "cell_type": "code",
   "execution_count": null,
   "metadata": {},
   "outputs": [],
   "source": [
    "SVD = lin.svd"
   ]
  },
  {
   "cell_type": "code",
   "execution_count": null,
   "metadata": {},
   "outputs": [],
   "source": [
    "U, s, Vh = SVD(a=rdm1)"
   ]
  },
  {
   "cell_type": "code",
   "execution_count": null,
   "metadata": {},
   "outputs": [],
   "source": [
    "h1_natural = np.dot(Vh.T, np.dot(h1, U.T))"
   ]
  },
  {
   "cell_type": "code",
   "execution_count": null,
   "metadata": {},
   "outputs": [],
   "source": [
    "d = np.zeros(h1_natural.shape[0])\n",
    "s = np.zeros(h1_natural.shape[0])\n",
    "for i in np.arange(h1_natural.shape[0]):\n",
    "    d[i] = h1_natural[i,i]\n",
    "    s[i] = rdm1[i,i]"
   ]
  },
  {
   "cell_type": "code",
   "execution_count": null,
   "metadata": {},
   "outputs": [],
   "source": [
    "plt.scatter(x=d,y=s)\n",
    "plt.show()"
   ]
  }
 ],
 "metadata": {
  "kernelspec": {
   "display_name": "Python 3",
   "language": "python",
   "name": "python3"
  },
  "language_info": {
   "codemirror_mode": {
    "name": "ipython",
    "version": 3
   },
   "file_extension": ".py",
   "mimetype": "text/x-python",
   "name": "python",
   "nbconvert_exporter": "python",
   "pygments_lexer": "ipython3",
   "version": "3.6.8"
  }
 },
 "nbformat": 4,
 "nbformat_minor": 2
}
