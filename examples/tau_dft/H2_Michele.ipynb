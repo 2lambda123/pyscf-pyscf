{
 "cells": [
  {
   "cell_type": "markdown",
   "metadata": {},
   "source": [
    "# H$_2$ prototype - energy & rdm1"
   ]
  },
  {
   "cell_type": "code",
   "execution_count": 56,
   "metadata": {},
   "outputs": [],
   "source": [
    "import pyscf\n",
    "from pyscf import gto, scf, dft, ao2mo, fci\n",
    "import numpy as np\n",
    "import scipy.linalg as lin\n",
    "import matplotlib.pyplot as plt"
   ]
  },
  {
   "cell_type": "code",
   "execution_count": 57,
   "metadata": {},
   "outputs": [],
   "source": [
    "HARTREE_TO_eV = 27.311285"
   ]
  },
  {
   "cell_type": "code",
   "execution_count": 58,
   "metadata": {},
   "outputs": [
    {
     "data": {
      "text/plain": [
       "11562.0807045062"
      ]
     },
     "execution_count": 58,
     "metadata": {},
     "output_type": "execute_result"
    }
   ],
   "source": [
    "1.0/(0.3166808991e-5*27.311285)"
   ]
  },
  {
   "cell_type": "code",
   "execution_count": 59,
   "metadata": {},
   "outputs": [],
   "source": [
    "npoints = 30\n",
    "R_begin=0.5\n",
    "R_end=4.5\n",
    "R = np.linspace(start=R_begin,stop=R_end,num=npoints)"
   ]
  },
  {
   "cell_type": "code",
   "execution_count": 60,
   "metadata": {},
   "outputs": [],
   "source": [
    "def get_entropy(mf,mo_occ=None):\n",
    "    if mo_occ is None:\n",
    "        f = mf.get_occ()/2\n",
    "    else:\n",
    "        f = mo_occ\n",
    "    #print(f)\n",
    "    f = f[(f>0) & (f<1)]\n",
    "    return -2*(f*np.log(f) + (1-f)*np.log(1-f)).sum()"
   ]
  },
  {
   "cell_type": "code",
   "execution_count": 61,
   "metadata": {},
   "outputs": [],
   "source": [
    "def run_rks(mol_str,smear=False,tau=500,basis='cc-pVTZ'):\n",
    "    mol = gto.M(atom=mol_str, basis=basis)\n",
    "    mol.smearing = smear\n",
    "    mol.tau = tau\n",
    "    mf = scf.RKS(mol)\n",
    "    mf.xc='PBE'\n",
    "    mf.run()\n",
    "    h1 = mf.mo_coeff.T.dot(mf.get_hcore()).dot(mf.mo_coeff)\n",
    "    rdm1=mf.make_rdm1()\n",
    "    T = mf.mol.intor_symmetric('int1e_kin')\n",
    "    Ekin = np.einsum('pq,qp', T, rdm1)*HARTREE_TO_eV\n",
    "    #print(\"Ts: \", Ekin)\n",
    "    #d = np.zeros(h1.shape[0])\n",
    "    s = mf.get_occ()\n",
    "    #for i in np.arange(h1.shape[0]):\n",
    "    #    d[i] = h1[i,i]\n",
    "    return s, mf, Ekin, mf.energy_tot()*HARTREE_TO_eV"
   ]
  },
  {
   "cell_type": "code",
   "execution_count": 94,
   "metadata": {},
   "outputs": [],
   "source": [
    "def run_fci(mol_str,basis='cc-pVTZ'):\n",
    "    mol = gto.M(atom=mol_str, basis=basis)\n",
    "    mf = scf.RHF(mol)\n",
    "    mf.run()\n",
    "    norb=np.shape(mf.get_occ())[0]\n",
    "    h1 = mf.mo_coeff.T.dot(mf.get_hcore()).dot(mf.mo_coeff)\n",
    "    T = mf.mo_coeff.T.dot(mf.mol.intor_symmetric('int1e_kin')).dot(mf.mo_coeff)\n",
    "    eri = ao2mo.kernel(mol, mf.mo_coeff)\n",
    "    cisolver = fci.direct_spin1.FCI(mol)\n",
    "    e, ci = cisolver.kernel(h1, eri, h1.shape[1], mol.nelec, ecore=mol.energy_nuc())\n",
    "    rdm1=cisolver.make_rdm1(fcivec=ci,norb=norb,nelec=mol.nelec)\n",
    "    Ekin = np.einsum('pq,qp', T, rdm1)*HARTREE_TO_eV\n",
    "    #print(\"exact T: \", Ekin)\n",
    "    #d = np.zeros(h1.shape[0])\n",
    "    s = lin.eigh(rdm1)[0]\n",
    "    #s = np.zeros(h1.shape[0])\n",
    "    #for i in np.arange(h1.shape[0]):\n",
    "    #    #d[i] = h1[i,i]\n",
    "    #    s[i] = rdm1[i,i]\n",
    "    return s, mf, Ekin, e*HARTREE_TO_eV\n"
   ]
  },
  {
   "cell_type": "code",
   "execution_count": 63,
   "metadata": {},
   "outputs": [
    {
     "name": "stdout",
     "output_type": "stream",
     "text": [
      "converged SCF energy = -1.09191079551157\n",
      "converged SCF energy = -1.15570660382185\n",
      "converged SCF energy = -1.1657707497024\n",
      "converged SCF energy = -1.15392422250323\n",
      "converged SCF energy = -1.1333343304918\n",
      "converged SCF energy = -1.10993548019576\n",
      "converged SCF energy = -1.08652820559596\n",
      "converged SCF energy = -1.06444183526048\n",
      "converged SCF energy = -1.04426556213363\n",
      "converged SCF energy = -1.02620063047972\n",
      "converged SCF energy = -1.01024465873264\n",
      "converged SCF energy = -0.996290770905432\n",
      "converged SCF energy = -0.984182495193473\n",
      "converged SCF energy = -0.973742428759461\n",
      "converged SCF energy = -0.964788200580431\n",
      "converged SCF energy = -0.957142195582558\n",
      "converged SCF energy = -0.950637609642804\n",
      "converged SCF energy = -0.945121950146175\n",
      "converged SCF energy = -0.940458470065313\n",
      "converged SCF energy = -0.936525988165003\n",
      "converged SCF energy = -0.933217859405868\n",
      "converged SCF energy = -0.930440820434552\n",
      "converged SCF energy = -0.928113738162466\n",
      "converged SCF energy = -0.926166646865308\n",
      "converged SCF energy = -0.924539445833905\n",
      "converged SCF energy = -0.923181245406702\n",
      "converged SCF energy = -0.922048127031586\n",
      "converged SCF energy = -0.921105395743975\n",
      "converged SCF energy = -0.920320779748803\n",
      "converged SCF energy = -0.919668965476495\n"
     ]
    }
   ],
   "source": [
    "smear = False\n",
    "occupations_KS = []\n",
    "energies_KS = []\n",
    "calculations_KS = []\n",
    "Ekin_KS = []\n",
    "ener_KS = []\n",
    "for i in np.arange(npoints):\n",
    "    mol_str = \"H 0 0 0; H 0 0 \"+str(R[i])\n",
    "    s, mf, Ekin, e = run_rks(mol_str=mol_str, smear=smear)\n",
    "    occupations_KS.append(s)\n",
    "    calculations_KS.append(mf)\n",
    "    Ekin_KS.append(Ekin)\n",
    "    ener_KS.append(e)"
   ]
  },
  {
   "cell_type": "code",
   "execution_count": 69,
   "metadata": {},
   "outputs": [
    {
     "name": "stdout",
     "output_type": "stream",
     "text": [
      "converged SCF energy = -1.09097830906853\n",
      "-0.029011478505998466\n",
      "converged SCF energy = -1.15402641243354\n",
      "-0.05305563077271781\n",
      "converged SCF energy = -1.16274225694275\n",
      "-0.09742359805641845\n",
      "converged SCF energy = -1.14858281934555\n",
      "-0.17583140393394855\n",
      "converged SCF energy = -1.12434517471328\n",
      "-0.304480763516135\n",
      "converged SCF energy = -1.09582720740085\n",
      "-0.4949846912832785\n",
      "converged SCF energy = -1.06615188257744\n",
      "-0.7462542324749535\n",
      "converged SCF energy = -1.0374438082397\n",
      "-1.0413244460881113\n",
      "converged SCF energy = -1.01130017277285\n",
      "-1.3523457489953696\n",
      "converged SCF energy = -0.988770892977809\n",
      "-1.6505645948818515\n",
      "converged SCF energy = -0.970295279111154\n",
      "-1.9147660517963325\n",
      "converged SCF energy = -0.955775219318065\n",
      "-2.134375123783306\n",
      "converged SCF energy = -0.94475704831882\n",
      "-2.307992209408041\n",
      "converged SCF energy = -0.936625306339188\n",
      "-2.4400450447193\n",
      "converged SCF energy = -0.930749455903513\n",
      "-2.537593652434144\n",
      "converged SCF energy = -0.926568816410962\n",
      "-2.6081117687463506\n",
      "converged SCF energy = -0.923626283163503\n",
      "-2.6582882784248154\n",
      "converged SCF energy = -0.92156969366075\n",
      "-2.693581675340397\n",
      "converged SCF energy = -0.920137901780251\n",
      "-2.718199595345849\n",
      "converged SCF energy = -0.919142197315756\n",
      "-2.7352659672453687\n",
      "converged SCF energy = -0.918448500204905\n",
      "-2.7470472895195392\n",
      "converged SCF energy = -0.917963346351483\n",
      "-2.755154537900193\n",
      "converged SCF energy = -0.917621646888169\n",
      "-2.7607252500558386\n",
      "converged SCF energy = -0.917379038648521\n",
      "-2.764543274804084\n",
      "converged SCF energy = -0.91720515527984\n",
      "-2.7671593779275256\n",
      "converged SCF energy = -0.917079451612554\n",
      "-2.7689495996007762\n",
      "converged SCF energy = -0.91698707634468\n",
      "-2.7701695741076713\n",
      "converged SCF energy = -0.916919769724955\n",
      "-2.7710026212938343\n",
      "converged SCF energy = -0.91686959001982\n",
      "-2.7715677363972935\n",
      "converged SCF energy = -0.916831821915393\n",
      "-2.771950864565475\n"
     ]
    }
   ],
   "source": [
    "tau = 11562.0807045062 #KT=1eV\n",
    "smear = True\n",
    "occupations_KS_tau = []\n",
    "energies_KS_tau = []\n",
    "calculations_KS_tau = []\n",
    "Ekin_KS_tau = []\n",
    "ener_KS_tau = []\n",
    "\n",
    "for i in np.arange(npoints):\n",
    "    mol_str = \"H 0 0 0; H 0 0 \"+str(R[i])\n",
    "    s, mf, Ekin, e = run_rks(mol_str=mol_str,tau=tau,smear=smear)\n",
    "    occupations_KS_tau.append(s)\n",
    "    calculations_KS_tau.append(mf)\n",
    "    if smear:\n",
    "        mTS=-0.3166808991e-5*tau*get_entropy(mf)*HARTREE_TO_eV\n",
    "    else:\n",
    "        mTS = 0.0\n",
    "    print(mTS)\n",
    "    Ekin_KS_tau.append(Ekin)\n",
    "    ener_KS_tau.append(e+mTS)"
   ]
  },
  {
   "cell_type": "code",
   "execution_count": 95,
   "metadata": {},
   "outputs": [
    {
     "name": "stdout",
     "output_type": "stream",
     "text": [
      "converged SCF energy = -1.06330677086093\n",
      "converged SCF energy = -1.12472263417086\n",
      "converged SCF energy = -1.13185974071706\n",
      "converged SCF energy = -1.11665632235809\n",
      "converged SCF energy = -1.0923609398329\n",
      "converged SCF energy = -1.06495830542229\n",
      "converged SCF energy = -1.03728479887597\n",
      "converged SCF energy = -1.0106982908468\n",
      "converged SCF energy = -0.985817133884628\n",
      "converged SCF energy = -0.96287836034824\n",
      "converged SCF energy = -0.941921705670047\n",
      "converged SCF energy = -0.922886043676355\n",
      "converged SCF energy = -0.905661462621326\n",
      "converged SCF energy = -0.890117054341109\n",
      "converged SCF energy = -0.876114606717424\n",
      "converged SCF energy = -0.863515669847535\n",
      "converged SCF energy = -0.852186417974785\n",
      "converged SCF energy = -0.842001232519819\n",
      "converged SCF energy = -0.832844640642622\n",
      "converged SCF energy = -0.824611746986229\n",
      "converged SCF energy = -0.8172077952204\n",
      "converged SCF energy = -0.810547418632858\n",
      "converged SCF energy = -0.80455383673203\n",
      "converged SCF energy = -0.799158049919527\n",
      "converged SCF energy = -0.794298031567186\n",
      "converged SCF energy = -0.78991793862816\n",
      "converged SCF energy = -0.785967384814555\n",
      "converged SCF energy = -0.78240081584292\n",
      "converged SCF energy = -0.779177002039977\n",
      "converged SCF energy = -0.776258637826681\n"
     ]
    }
   ],
   "source": [
    "occupations_FCI = []\n",
    "energies_FCI = []\n",
    "calculations_FCI = []\n",
    "Ekin_FCI = []\n",
    "ener_FCI = []\n",
    "for i in np.arange(npoints):\n",
    "    mol_str = \"H 0 0 0; H 0 0 \"+str(R[i])\n",
    "    s, mf, Ekin, e = run_fci(mol_str=mol_str)\n",
    "    occupations_FCI.append(s)\n",
    "    calculations_FCI.append(mf)\n",
    "    Ekin_FCI.append(Ekin)\n",
    "    ener_FCI.append(e)"
   ]
  },
  {
   "cell_type": "code",
   "execution_count": 96,
   "metadata": {},
   "outputs": [],
   "source": [
    "occupations_FCI = np.array(occupations_FCI,dtype=np.float)\n",
    "occupations_KS = np.array(occupations_KS,dtype=np.float)\n",
    "occupations_KS_tau = np.array(occupations_KS_tau,dtype=np.float)"
   ]
  },
  {
   "cell_type": "code",
   "execution_count": 100,
   "metadata": {},
   "outputs": [
    {
     "data": {
      "image/png": "[encoded data removed]",
      "text/plain": [
       "<Figure size 864x576 with 4 Axes>"
      ]
     },
     "metadata": {
      "needs_background": "light"
     },
     "output_type": "display_data"
    }
   ],
   "source": [
    "font=11.5\n",
    "fig, ax = plt.subplots(2,2,figsize=(12,8))\n",
    "#\n",
    "ax[0,0].set_ylabel(\"Kinetic Energy / eV\")\n",
    "ax[0,0].plot(R,Ekin_FCI,label=r'FCI',color='black',linestyle='--')\n",
    "ax[0,0].plot(R,Ekin_KS,label=r'$K_B\\tau = 0$ eV',color='black',linestyle=':')\n",
    "ax[0,0].plot(R,Ekin_KS_tau,label=r'$K_B\\tau = 1$ eV',color='black',linestyle='-')\n",
    "#\n",
    "ax[0,1].set_ylabel(\"Total Energy / eV\")\n",
    "ax[0,1].plot(R,ener_FCI,label=r'FCI',color='black',linestyle='--')\n",
    "ax[0,1].plot(R,ener_KS,label=r'$K_B\\tau = 0$ eV',color='black',linestyle=':')\n",
    "ax[0,1].plot(R,ener_KS_tau,label=r'$K_B\\tau = 1$ eV',color='black',linestyle='-')\n",
    "#\n",
    "ax[1,0].set_ylabel(\"HOMO Occupation\")\n",
    "ax[1,0].plot(R,occupations_FCI[:,-1],label=r'FCI',color='black',linestyle='--')\n",
    "ax[1,0].plot(R,occupations_KS[:,0],label=r'$K_B\\tau = 0$ eV',color='black',linestyle=':')\n",
    "ax[1,0].plot(R,occupations_KS_tau[:,0],label=r'$K_B\\tau = 1$ eV',color='black',linestyle='-')\n",
    "#ax[1,0].set_ylim([0.5,2.5])\n",
    "#\n",
    "ax[1,1].set_ylabel(\"Entropy / eV\")\n",
    "entropy_KS = np.zeros(npoints)\n",
    "entropy_KS_tau = np.zeros(npoints)\n",
    "entropy_FCI = np.zeros(npoints)\n",
    "for i in range(npoints):\n",
    "    #entropy_KS[i]=-0.3166808991e-5*tau*get_entropy(calculations_KS_tau[i])\n",
    "    entropy_KS_tau[i]=-0.3166808991e-5*tau*get_entropy(calculations_KS_tau[i])*HARTREE_TO_eV\n",
    "    entropy_FCI[i]=-0.3166808991e-5*tau*get_entropy(calculations_FCI[i],occupations_FCI[i,:])*HARTREE_TO_eV\n",
    "\n",
    "ax[1,1].plot(R,entropy_FCI,label=r'FCI',color='black',linestyle='--')\n",
    "ax[1,1].plot(R,entropy_KS,label=r'$K_B\\tau = 0$ eV',color='black',linestyle=':')\n",
    "ax[1,1].plot(R,entropy_KS_tau,label=r'$K_B\\tau = 1$ eV',color='black',linestyle='-')\n",
    "\n",
    "ax[0,0].legend(fontsize=font)\n",
    "#for i in 0, 1:\n",
    "#    for j in 0, 1:\n",
    "#        ax[i,j].legend(fontsize=font)\n",
    "plt.show()"
   ]
  },
  {
   "cell_type": "code",
   "execution_count": null,
   "metadata": {},
   "outputs": [],
   "source": []
  },
  {
   "cell_type": "code",
   "execution_count": null,
   "metadata": {},
   "outputs": [],
   "source": []
  },
  {
   "cell_type": "markdown",
   "metadata": {},
   "source": [
    "# prototyping natural orbitals"
   ]
  },
  {
   "cell_type": "code",
   "execution_count": 12,
   "metadata": {},
   "outputs": [],
   "source": [
    "SVD = lin.svd"
   ]
  },
  {
   "cell_type": "code",
   "execution_count": 13,
   "metadata": {},
   "outputs": [
    {
     "ename": "NameError",
     "evalue": "name 'rdm1' is not defined",
     "output_type": "error",
     "traceback": [
      "\u001b[0;31m---------------------------------------------------------------------------\u001b[0m",
      "\u001b[0;31mNameError\u001b[0m                                 Traceback (most recent call last)",
      "\u001b[0;32m<ipython-input-13-48b2b15c1fc7>\u001b[0m in \u001b[0;36m<module>\u001b[0;34m\u001b[0m\n\u001b[0;32m----> 1\u001b[0;31m \u001b[0mU\u001b[0m\u001b[0;34m,\u001b[0m \u001b[0ms\u001b[0m\u001b[0;34m,\u001b[0m \u001b[0mVh\u001b[0m \u001b[0;34m=\u001b[0m \u001b[0mSVD\u001b[0m\u001b[0;34m(\u001b[0m\u001b[0ma\u001b[0m\u001b[0;34m=\u001b[0m\u001b[0mrdm1\u001b[0m\u001b[0;34m)\u001b[0m\u001b[0;34m\u001b[0m\u001b[0;34m\u001b[0m\u001b[0m\n\u001b[0m",
      "\u001b[0;31mNameError\u001b[0m: name 'rdm1' is not defined"
     ]
    }
   ],
   "source": [
    "U, s, Vh = SVD(a=rdm1)"
   ]
  },
  {
   "cell_type": "code",
   "execution_count": null,
   "metadata": {},
   "outputs": [],
   "source": [
    "h1_natural = np.dot(Vh.T, np.dot(h1, U.T))"
   ]
  },
  {
   "cell_type": "code",
   "execution_count": null,
   "metadata": {},
   "outputs": [],
   "source": [
    "d = np.zeros(h1_natural.shape[0])\n",
    "s = np.zeros(h1_natural.shape[0])\n",
    "for i in np.arange(h1_natural.shape[0]):\n",
    "    d[i] = h1_natural[i,i]\n",
    "    s[i] = rdm1[i,i]"
   ]
  },
  {
   "cell_type": "code",
   "execution_count": null,
   "metadata": {},
   "outputs": [],
   "source": [
    "plt.scatter(x=d,y=s)\n",
    "plt.show()"
   ]
  }
 ],
 "metadata": {
  "kernelspec": {
   "display_name": "Python 3",
   "language": "python",
   "name": "python3"
  },
  "language_info": {
   "codemirror_mode": {
    "name": "ipython",
    "version": 3
   },
   "file_extension": ".py",
   "mimetype": "text/x-python",
   "name": "python",
   "nbconvert_exporter": "python",
   "pygments_lexer": "ipython3",
   "version": "3.6.8"
  }
 },
 "nbformat": 4,
 "nbformat_minor": 2
}
