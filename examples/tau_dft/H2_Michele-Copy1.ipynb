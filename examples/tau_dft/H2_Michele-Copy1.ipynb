{
 "cells": [
  {
   "cell_type": "markdown",
   "metadata": {},
   "source": [
    "# H$_2$ prototype - energy & rdm1"
   ]
  },
  {
   "cell_type": "code",
   "execution_count": 1,
   "metadata": {},
   "outputs": [],
   "source": [
    "import pyscf\n",
    "from pyscf import gto, scf, dft, ao2mo, fci\n",
    "import numpy as np\n",
    "import scipy.linalg as lin\n",
    "import matplotlib.pyplot as plt"
   ]
  },
  {
   "cell_type": "code",
   "execution_count": 2,
   "metadata": {},
   "outputs": [],
   "source": [
    "npoints = 30\n",
    "R_begin=0.5\n",
    "R_end=4.5\n",
    "R = np.linspace(start=R_begin,stop=R_end,num=npoints)"
   ]
  },
  {
   "cell_type": "code",
   "execution_count": 3,
   "metadata": {},
   "outputs": [],
   "source": [
    "def get_entropy(mf):\n",
    "    f = mf.get_occ()/2\n",
    "    #print(f)\n",
    "    f = f[(f>0) & (f<1)]\n",
    "    return -2*(f*np.log(f) + (1-f)*np.log(1-f)).sum()"
   ]
  },
  {
   "cell_type": "code",
   "execution_count": 4,
   "metadata": {},
   "outputs": [],
   "source": [
    "def run_rks(mol_str,smear=False,tau=500,basis='cc-pVTZ'):\n",
    "    mol = gto.M(atom=mol_str, basis=basis)\n",
    "    mol.smearing = smear\n",
    "    mol.tau = tau\n",
    "    mf = scf.RKS(mol)\n",
    "    mf.xc='PBE'\n",
    "    mf.run()\n",
    "    h1 = mf.mo_coeff.T.dot(mf.get_hcore()).dot(mf.mo_coeff)\n",
    "    rdm1=mf.make_rdm1()\n",
    "    T = mf.mol.intor_symmetric('int1e_kin')\n",
    "    Ekin = np.einsum('pq,qp', T, rdm1)\n",
    "    #print(\"Ts: \", Ekin)\n",
    "    #d = np.zeros(h1.shape[0])\n",
    "    s = mf.get_occ()\n",
    "    #for i in np.arange(h1.shape[0]):\n",
    "    #    d[i] = h1[i,i]\n",
    "    return s, mf, Ekin, mf.energy_tot()"
   ]
  },
  {
   "cell_type": "code",
   "execution_count": 5,
   "metadata": {},
   "outputs": [],
   "source": [
    "def run_fci(mol_str,basis='cc-pVTZ'):\n",
    "    mol = gto.M(atom=mol_str, basis=basis)\n",
    "    mf = scf.RHF(mol)\n",
    "    mf.run()\n",
    "    norb=np.shape(mf.get_occ())[0]\n",
    "    h1 = mf.mo_coeff.T.dot(mf.get_hcore()).dot(mf.mo_coeff)\n",
    "    T = mf.mo_coeff.T.dot(mf.mol.intor_symmetric('int1e_kin')).dot(mf.mo_coeff)\n",
    "    eri = ao2mo.kernel(mol, mf.mo_coeff)\n",
    "    cisolver = fci.direct_spin1.FCI(mol)\n",
    "    e, ci = cisolver.kernel(h1, eri, h1.shape[1], mol.nelec, ecore=mol.energy_nuc())\n",
    "    rdm1=cisolver.make_rdm1(fcivec=ci,norb=norb,nelec=mol.nelec)\n",
    "    Ekin = np.einsum('pq,qp', T, rdm1)\n",
    "    #print(\"exact T: \", Ekin)\n",
    "    #d = np.zeros(h1.shape[0])\n",
    "    s = np.zeros(h1.shape[0])\n",
    "    for i in np.arange(h1.shape[0]):\n",
    "        #d[i] = h1[i,i]\n",
    "        s[i] = rdm1[i,i]\n",
    "    return s, mf, Ekin, e\n"
   ]
  },
  {
   "cell_type": "code",
   "execution_count": 6,
   "metadata": {},
   "outputs": [
    {
     "name": "stdout",
     "output_type": "stream",
     "text": [
      "converged SCF energy = -1.09191079551157\n",
      "converged SCF energy = -1.15570660382185\n",
      "converged SCF energy = -1.1657707497024\n",
      "converged SCF energy = -1.15392422250323\n",
      "converged SCF energy = -1.1333343304918\n",
      "converged SCF energy = -1.10993548019576\n",
      "converged SCF energy = -1.08652820559596\n",
      "converged SCF energy = -1.06444183526048\n",
      "converged SCF energy = -1.04426556213363\n",
      "converged SCF energy = -1.02620063047972\n",
      "converged SCF energy = -1.01024465873264\n",
      "converged SCF energy = -0.996290770905432\n",
      "converged SCF energy = -0.984182495193473\n",
      "converged SCF energy = -0.973742428759461\n",
      "converged SCF energy = -0.964788200580431\n",
      "converged SCF energy = -0.957142195582558\n",
      "converged SCF energy = -0.950637609642804\n",
      "converged SCF energy = -0.945121950146175\n",
      "converged SCF energy = -0.940458470065313\n",
      "converged SCF energy = -0.936525988165003\n",
      "converged SCF energy = -0.933217859405868\n",
      "converged SCF energy = -0.930440820434552\n",
      "converged SCF energy = -0.928113738162466\n",
      "converged SCF energy = -0.926166646865308\n",
      "converged SCF energy = -0.924539445833905\n",
      "converged SCF energy = -0.923181245406702\n",
      "converged SCF energy = -0.922048127031586\n",
      "converged SCF energy = -0.921105395743975\n",
      "converged SCF energy = -0.920320779748803\n",
      "converged SCF energy = -0.919668965476495\n"
     ]
    }
   ],
   "source": [
    "smear = False\n",
    "occupations_KS = []\n",
    "energies_KS = []\n",
    "calculations_KS = []\n",
    "Ekin_KS = []\n",
    "ener_KS = []\n",
    "for i in np.arange(npoints):\n",
    "    mol_str = \"H 0 0 0; H 0 0 \"+str(R[i])\n",
    "    s, mf, Ekin, e = run_rks(mol_str=mol_str, smear=smear)\n",
    "    occupations_KS.append(s)\n",
    "    calculations_KS.append(mf)\n",
    "    Ekin_KS.append(Ekin)\n",
    "    ener_KS.append(e)"
   ]
  },
  {
   "cell_type": "code",
   "execution_count": 14,
   "metadata": {},
   "outputs": [
    {
     "name": "stdout",
     "output_type": "stream",
     "text": [
      "converged SCF energy = -1.09069749044584\n",
      "-0.0013883885697977072\n",
      "converged SCF energy = -1.15358251548157\n",
      "-0.0024681787290067904\n",
      "converged SCF energy = -1.1620518989959\n",
      "-0.004405247499487164\n",
      "converged SCF energy = -1.14754759970862\n",
      "-0.007736142379291549\n",
      "converged SCF energy = -1.12288461244686\n",
      "-0.01305832680285991\n",
      "converged SCF energy = -1.09393098269501\n",
      "-0.02074166424848545\n",
      "converged SCF energy = -1.0639146134419\n",
      "-0.03063787155672014\n",
      "converged SCF energy = -1.035049199765\n",
      "-0.042011468598248045\n",
      "converged SCF energy = -1.00895992925764\n",
      "-0.05377555803816149\n",
      "converged SCF energy = -0.986658564544844\n",
      "-0.06487629321938611\n",
      "converged SCF energy = -0.968510840615426\n",
      "-0.07458241451894153\n",
      "converged SCF energy = -0.954345930333472\n",
      "-0.08256613950654995\n",
      "converged SCF energy = -0.943658894842553\n",
      "-0.08882652982612337\n",
      "converged SCF energy = -0.93580791534718\n",
      "-0.09355871339307557\n",
      "converged SCF energy = -0.930155223279497\n",
      "-0.0970383588419693\n",
      "converged SCF energy = -0.926144129958169\n",
      "-0.09954541907441669\n",
      "converged SCF energy = -0.923326370803924\n",
      "-0.10132507918202273\n",
      "converged SCF energy = -0.921359551613465\n",
      "-0.10257482005053488\n",
      "converged SCF energy = -0.919991316281314\n",
      "-0.10344558367341963\n",
      "converged SCF energy = -0.919040101128909\n",
      "-0.10404880339824954\n",
      "converged SCF energy = -0.91837730557684\n",
      "-0.10446502707330765\n",
      "converged SCF energy = -0.917913508244569\n",
      "-0.104751355387613\n",
      "converged SCF energy = -0.917586531963487\n",
      "-0.10494804994049109\n",
      "converged SCF energy = -0.917354052660275\n",
      "-0.10508282064019053\n",
      "converged SCF energy = -0.91718714316197\n",
      "-0.10517513110313154\n",
      "converged SCF energy = -0.917066244427079\n",
      "-0.10523826669369576\n",
      "converged SCF energy = -0.916977173145823\n",
      "-0.10528126130245953\n",
      "converged SCF energy = -0.916912150349182\n",
      "-0.1053105915049661\n",
      "converged SCF energy = -0.916863542310626\n",
      "-0.10533046547597646\n",
      "converged SCF energy = -0.916826857980269\n",
      "-0.10534392076266809\n"
     ]
    }
   ],
   "source": [
    "tau = 12000\n",
    "smear = True\n",
    "occupations_KS_tau = []\n",
    "energies_KS_tau = []\n",
    "calculations_KS_tau = []\n",
    "Ekin_KS_tau = []\n",
    "ener_KS_tau = []\n",
    "\n",
    "for i in np.arange(npoints):\n",
    "    mol_str = \"H 0 0 0; H 0 0 \"+str(R[i])\n",
    "    s, mf, Ekin, e = run_rks(mol_str=mol_str,tau=tau,smear=smear)\n",
    "    occupations_KS_tau.append(s)\n",
    "    calculations_KS_tau.append(mf)\n",
    "    if smear:\n",
    "        mTS=-0.3166808991e-5*tau*get_entropy(mf)\n",
    "-0.3166808991e-5*tau*    else:\n",
    "        mTS = 0.0\n",
    "    print(mTS)\n",
    "    Ekin_KS_tau.append(Ekin)\n",
    "    ener_KS_tau.append(e+mTS)"
   ]
  },
  {
   "cell_type": "code",
   "execution_count": 8,
   "metadata": {},
   "outputs": [
    {
     "name": "stdout",
     "output_type": "stream",
     "text": [
      "converged SCF energy = -1.06330677086093\n",
      "converged SCF energy = -1.12472263417086\n",
      "converged SCF energy = -1.13185974071706\n",
      "converged SCF energy = -1.11665632235809\n",
      "converged SCF energy = -1.0923609398329\n",
      "converged SCF energy = -1.06495830542229\n",
      "converged SCF energy = -1.03728479887597\n",
      "converged SCF energy = -1.0106982908468\n",
      "converged SCF energy = -0.985817133884628\n",
      "converged SCF energy = -0.96287836034824\n",
      "converged SCF energy = -0.941921705670047\n",
      "converged SCF energy = -0.922886043676355\n",
      "converged SCF energy = -0.905661462621326\n",
      "converged SCF energy = -0.890117054341109\n",
      "converged SCF energy = -0.876114606717424\n",
      "converged SCF energy = -0.863515669847535\n",
      "converged SCF energy = -0.852186417974785\n",
      "converged SCF energy = -0.842001232519819\n",
      "converged SCF energy = -0.832844640642622\n",
      "converged SCF energy = -0.824611746986229\n",
      "converged SCF energy = -0.8172077952204\n",
      "converged SCF energy = -0.810547418632858\n",
      "converged SCF energy = -0.80455383673203\n",
      "converged SCF energy = -0.799158049919527\n",
      "converged SCF energy = -0.794298031567186\n",
      "converged SCF energy = -0.78991793862816\n",
      "converged SCF energy = -0.785967384814555\n",
      "converged SCF energy = -0.78240081584292\n",
      "converged SCF energy = -0.779177002039977\n",
      "converged SCF energy = -0.776258637826681\n"
     ]
    }
   ],
   "source": [
    "occupations_FCI = []\n",
    "energies_FCI = []\n",
    "calculations_FCI = []\n",
    "Ekin_FCI = []\n",
    "ener_FCI = []\n",
    "for i in np.arange(npoints):\n",
    "    mol_str = \"H 0 0 0; H 0 0 \"+str(R[i])\n",
    "    s, mf, Ekin, e = run_fci(mol_str=mol_str)\n",
    "    occupations_FCI.append(s)\n",
    "    calculations_FCI.append(mf)\n",
    "    Ekin_FCI.append(Ekin)\n",
    "    ener_FCI.append(e)"
   ]
  },
  {
   "cell_type": "code",
   "execution_count": 15,
   "metadata": {},
   "outputs": [],
   "source": [
    "occupations_FCI = np.array(occupations_FCI,dtype=np.float)\n",
    "occupations_KS = np.array(occupations_KS,dtype=np.float)\n",
    "occupations_KS_tau = np.array(occupations_KS_tau,dtype=np.float)"
   ]
  },
  {
   "cell_type": "code",
   "execution_count": 16,
   "metadata": {},
   "outputs": [
    {
     "name": "stdout",
     "output_type": "stream",
     "text": [
      "[2. 0. 0. 0. 0. 0. 0. 0. 0. 0. 0. 0. 0. 0. 0. 0. 0. 0. 0. 0. 0. 0. 0. 0.\n",
      " 0. 0. 0. 0.]\n",
      "[1.99769878e+00 2.05294634e-03 2.48182612e-04 3.14201142e-08\n",
      " 3.14201142e-08 2.44394694e-08 3.77772177e-13 3.49132830e-13\n",
      " 3.49132830e-13 0.00000000e+00 0.00000000e+00 0.00000000e+00\n",
      " 0.00000000e+00 0.00000000e+00 0.00000000e+00 0.00000000e+00\n",
      " 0.00000000e+00 0.00000000e+00 0.00000000e+00 0.00000000e+00\n",
      " 0.00000000e+00 0.00000000e+00 0.00000000e+00 0.00000000e+00\n",
      " 0.00000000e+00 0.00000000e+00 0.00000000e+00 0.00000000e+00]\n"
     ]
    }
   ],
   "source": [
    "print(calculations_KS[0].get_occ())\n",
    "print(calculations_KS_tau[0].get_occ())"
   ]
  },
  {
   "cell_type": "code",
   "execution_count": 20,
   "metadata": {},
   "outputs": [
    {
     "data": {
      "image/png": "[encoded data removed]",
      "text/plain": [
       "<Figure size 864x864 with 4 Axes>"
      ]
     },
     "metadata": {
      "needs_background": "light"
     },
     "output_type": "display_data"
    }
   ],
   "source": [
    "fig, ax = plt.subplots(2,2,figsize=(12,12))\n",
    "#\n",
    "ax[0,0].set_title(\"Kinetic energy\")\n",
    "ax[0,0].plot(R,Ekin_FCI,label=r'T$_\\mathrm{FCI}$')\n",
    "ax[0,0].plot(R,Ekin_KS,label=r'T$_s (\\tau=0)$')\n",
    "ax[0,0].plot(R,Ekin_KS_tau,label=r'T$_s (\\tau=8000K)$')\n",
    "#\n",
    "ax[0,1].set_title(\"Total energy\")\n",
    "ax[0,1].plot(R,ener_FCI,label=r'E$_\\mathrm{FCI}$')\n",
    "ax[0,1].plot(R,ener_KS,label=r'E$_{KS} (\\tau=0)$')\n",
    "ax[0,1].plot(R,ener_KS_tau,label=r'E$_{\\tau DFT} (\\tau=8000K)$')\n",
    "#\n",
    "ax[1,0].set_title(\"Occupations\")\n",
    "ax[1,0].plot(R,occupations_FCI[:,0],label=r'FCI')\n",
    "ax[1,0].plot(R,occupations_KS[:,0],label=r'KS ($\\tau=0$)')\n",
    "ax[1,0].plot(R,occupations_KS_tau[:,0],label=r'$\\tau$ DFT ($\\tau=8000$K)')\n",
    "#\n",
    "ax[1,1].set_title(\"Entropy contribution\")\n",
    "entropy = np.zeros(npoints)\n",
    "for i in range(npoints):\n",
    "    entropy[i]=  get_entropy(calculations_KS_tau[i])\n",
    "ax[1,1].plot(R,entropy,label=r'E$_{\\tau DFT} (\\tau=8000K)$')\n",
    "\n",
    "for i in 0, 1:\n",
    "    for j in 0, 1:\n",
    "        ax[i,j].legend()\n",
    "plt.show()"
   ]
  },
  {
   "cell_type": "code",
   "execution_count": null,
   "metadata": {},
   "outputs": [],
   "source": []
  },
  {
   "cell_type": "code",
   "execution_count": null,
   "metadata": {},
   "outputs": [],
   "source": []
  },
  {
   "cell_type": "markdown",
   "metadata": {},
   "source": [
    "# prototyping natural orbitals"
   ]
  },
  {
   "cell_type": "code",
   "execution_count": 12,
   "metadata": {},
   "outputs": [],
   "source": [
    "SVD = lin.svd"
   ]
  },
  {
   "cell_type": "code",
   "execution_count": 13,
   "metadata": {},
   "outputs": [
    {
     "ename": "NameError",
     "evalue": "name 'rdm1' is not defined",
     "output_type": "error",
     "traceback": [
      "\u001b[0;31m---------------------------------------------------------------------------\u001b[0m",
      "\u001b[0;31mNameError\u001b[0m                                 Traceback (most recent call last)",
      "\u001b[0;32m<ipython-input-13-48b2b15c1fc7>\u001b[0m in \u001b[0;36m<module>\u001b[0;34m\u001b[0m\n\u001b[0;32m----> 1\u001b[0;31m \u001b[0mU\u001b[0m\u001b[0;34m,\u001b[0m \u001b[0ms\u001b[0m\u001b[0;34m,\u001b[0m \u001b[0mVh\u001b[0m \u001b[0;34m=\u001b[0m \u001b[0mSVD\u001b[0m\u001b[0;34m(\u001b[0m\u001b[0ma\u001b[0m\u001b[0;34m=\u001b[0m\u001b[0mrdm1\u001b[0m\u001b[0;34m)\u001b[0m\u001b[0;34m\u001b[0m\u001b[0;34m\u001b[0m\u001b[0m\n\u001b[0m",
      "\u001b[0;31mNameError\u001b[0m: name 'rdm1' is not defined"
     ]
    }
   ],
   "source": [
    "U, s, Vh = SVD(a=rdm1)"
   ]
  },
  {
   "cell_type": "code",
   "execution_count": null,
   "metadata": {},
   "outputs": [],
   "source": [
    "h1_natural = np.dot(Vh.T, np.dot(h1, U.T))"
   ]
  },
  {
   "cell_type": "code",
   "execution_count": null,
   "metadata": {},
   "outputs": [],
   "source": [
    "d = np.zeros(h1_natural.shape[0])\n",
    "s = np.zeros(h1_natural.shape[0])\n",
    "for i in np.arange(h1_natural.shape[0]):\n",
    "    d[i] = h1_natural[i,i]\n",
    "    s[i] = rdm1[i,i]"
   ]
  },
  {
   "cell_type": "code",
   "execution_count": null,
   "metadata": {},
   "outputs": [],
   "source": [
    "plt.scatter(x=d,y=s)\n",
    "plt.show()"
   ]
  }
 ],
 "metadata": {
  "kernelspec": {
   "display_name": "Python 3",
   "language": "python",
   "name": "python3"
  },
  "language_info": {
   "codemirror_mode": {
    "name": "ipython",
    "version": 3
   },
   "file_extension": ".py",
   "mimetype": "text/x-python",
   "name": "python",
   "nbconvert_exporter": "python",
   "pygments_lexer": "ipython3",
   "version": "3.6.8"
  }
 },
 "nbformat": 4,
 "nbformat_minor": 2
}
