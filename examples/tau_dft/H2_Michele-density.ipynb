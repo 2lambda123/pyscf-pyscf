{
 "cells": [
  {
   "cell_type": "markdown",
   "metadata": {},
   "source": [
    "# H$_2$ prototyping - occupations and density difference"
   ]
  },
  {
   "cell_type": "code",
   "execution_count": 9,
   "metadata": {},
   "outputs": [],
   "source": [
    "import pyscf\n",
    "from pyscf import gto, scf, dft, ao2mo, fci\n",
    "import numpy as np\n",
    "import scipy.linalg as lin\n",
    "import matplotlib.pyplot as plt"
   ]
  },
  {
   "cell_type": "code",
   "execution_count": 2,
   "metadata": {},
   "outputs": [],
   "source": [
    "npoints = 20\n",
    "R_begin=0.5\n",
    "R_end=6.0\n",
    "R = np.linspace(start=R_begin,stop=R_end,num=npoints)"
   ]
  },
  {
   "cell_type": "code",
   "execution_count": 3,
   "metadata": {},
   "outputs": [],
   "source": [
    "def get_entropy(mf):\n",
    "    f = mf.get_occ()/2\n",
    "    #print(f)\n",
    "    f = f[(f>0) & (f<1)]\n",
    "    return -2*(f*np.log(f) + (1-f)*np.log(1-f)).sum()"
   ]
  },
  {
   "cell_type": "code",
   "execution_count": 4,
   "metadata": {},
   "outputs": [],
   "source": [
    "def run_rks(mol_str,smear=False,tau=500,basis='cc-pVTZ'):\n",
    "    mol = gto.M(atom=mol_str, basis=basis)\n",
    "    mol.smearing = smear\n",
    "    mol.tau = tau\n",
    "    mf = scf.RKS(mol)\n",
    "    mf.xc='PBE'\n",
    "    mf.run()\n",
    "    h1 = mf.mo_coeff.T.dot(mf.get_hcore()).dot(mf.mo_coeff)\n",
    "    T = mf.mo_coeff.T.dot(mf.mol.intor_symmetric('int1e_kin')).dot(mf.mo_coeff)\n",
    "    rdm1=mf.make_rdm1()\n",
    "    Ekin = np.einsum('pq,qp', T, rdm1)\n",
    "    #print(\"Ts: \", Ekin)\n",
    "    d = np.zeros(h1.shape[0])\n",
    "    s = np.zeros(h1.shape[0])\n",
    "    for i in np.arange(h1.shape[0]):\n",
    "        d[i] = h1[i,i]\n",
    "        s[i] = rdm1[i,i]\n",
    "    return s, d, mf, Ekin, mf.energy_tot()"
   ]
  },
  {
   "cell_type": "code",
   "execution_count": 5,
   "metadata": {},
   "outputs": [],
   "source": [
    "def run_fci(mol_str,basis='cc-pVTZ'):\n",
    "    mol = gto.M(atom=mol_str, basis=basis)\n",
    "    mf = scf.RHF(mol)\n",
    "    mf.run()\n",
    "    norb=np.shape(mf.get_occ())[0]\n",
    "    h1 = mf.mo_coeff.T.dot(mf.get_hcore()).dot(mf.mo_coeff)\n",
    "    T = mf.mo_coeff.T.dot(mf.mol.intor_symmetric('int1e_kin')).dot(mf.mo_coeff)\n",
    "    eri = ao2mo.kernel(mol, mf.mo_coeff)\n",
    "    cisolver = fci.direct_spin1.FCI(mol)\n",
    "    e, ci = cisolver.kernel(h1, eri, h1.shape[1], mol.nelec, ecore=mol.energy_nuc())\n",
    "    rdm1=cisolver.make_rdm1(fcivec=ci,norb=norb,nelec=mol.nelec)\n",
    "    Ekin = np.einsum('pq,qp', T, rdm1)\n",
    "    #print(\"exact T: \", Ekin)\n",
    "    d = np.zeros(h1.shape[0])\n",
    "    s = np.zeros(h1.shape[0])\n",
    "    for i in np.arange(h1.shape[0]):\n",
    "        d[i] = h1[i,i]\n",
    "        s[i] = rdm1[i,i]\n",
    "    return s, d, mf, Ekin, e\n"
   ]
  },
  {
   "cell_type": "code",
   "execution_count": 6,
   "metadata": {},
   "outputs": [
    {
     "name": "stdout",
     "output_type": "stream",
     "text": [
      "converged SCF energy = -1.09191079551157\n",
      "converged SCF energy = -1.16527378622365\n",
      "converged SCF energy = -1.12881999115196\n",
      "converged SCF energy = -1.07981515146401\n",
      "converged SCF energy = -1.03687938302148\n",
      "converged SCF energy = -1.00311829781504\n",
      "converged SCF energy = -0.977811141837898\n",
      "converged SCF energy = -0.959377001467066\n",
      "converged SCF energy = -0.946207974172045\n",
      "converged SCF energy = -0.936932953427283\n",
      "converged SCF energy = -0.930474273914102\n",
      "converged SCF energy = -0.926015751454567\n",
      "converged SCF energy = -0.92295675707269\n",
      "converged SCF energy = -0.920868535816567\n",
      "converged SCF energy = -0.919450609167802\n",
      "converged SCF energy = -0.91840968704719\n",
      "converged SCF energy = -0.917855981813743\n",
      "converged SCF energy = -0.917434919558024\n",
      "converged SCF energy = -0.917161789461337\n",
      "converged SCF energy = -0.915862210281631\n"
     ]
    }
   ],
   "source": [
    "smear = False\n",
    "occupations = []\n",
    "energies = []\n",
    "calculations = []\n",
    "Ekin_KS = []\n",
    "ener_KS = []\n",
    "for i in np.arange(npoints):\n",
    "    mol_str = \"H 0 0 0; H 0 0 \"+str(R[i])\n",
    "    s, d, mf, Ekin, e = run_rks(mol_str=mol_str, smear=smear)\n",
    "    occupations.append(s)\n",
    "    energies.append(s)\n",
    "    calculations.append(mf)\n",
    "    Ekin_KS.append(Ekin)\n",
    "    ener_KS.append(e)"
   ]
  },
  {
   "cell_type": "code",
   "execution_count": 7,
   "metadata": {},
   "outputs": [
    {
     "name": "stdout",
     "output_type": "stream",
     "text": [
      "converged SCF energy = -1.09187252171842\n",
      "-4.199046611156378e-05\n",
      "converged SCF energy = -1.16500230262247\n",
      "-0.00030538826392991045\n",
      "converged SCF energy = -1.12717801693933\n",
      "-0.0019213927066776954\n",
      "converged SCF energy = -1.0732824206292\n",
      "-0.008126901316708958\n",
      "converged SCF energy = -1.02117918845049\n",
      "-0.021397303905716942\n",
      "converged SCF energy = -0.978603763590401\n",
      "-0.03808226984939941\n",
      "converged SCF energy = -0.949749589038281\n",
      "-0.052068380138300306\n",
      "converged SCF energy = -0.933155107949998\n",
      "-0.060993622221675495\n",
      "converged SCF energy = -0.924617987091732\n",
      "-0.06581870334031147\n",
      "converged SCF energy = -0.92049079949532\n",
      "-0.06819576609072452\n",
      "converged SCF energy = -0.918545001581727\n",
      "-0.06931127011060634\n",
      "converged SCF energy = -0.917624877346564\n",
      "-0.06982296492644667\n",
      "converged SCF energy = -0.917180456341411\n",
      "-0.07005533687852439\n",
      "converged SCF energy = -0.916959742922924\n",
      "-0.07016001425396978\n",
      "converged SCF energy = -0.916846896793624\n",
      "-0.07020670206983202\n",
      "converged SCF energy = -0.916789304137159\n",
      "-0.07022721537203114\n",
      "converged SCF energy = -0.916759727927929\n",
      "-0.07023602706715992\n",
      "converged SCF energy = -0.916745409629698\n",
      "-0.07023971257506281\n",
      "converged SCF energy = -0.916738249838191\n",
      "-0.07024119618766377\n",
      "converged SCF energy = -0.916735005710289\n",
      "-0.07024176806934582\n"
     ]
    }
   ],
   "source": [
    "tau = 8000\n",
    "smear = True\n",
    "occupations = []\n",
    "energies = []\n",
    "calculations = []\n",
    "Ekin_KS_tau = []\n",
    "ener_KS_tau = []\n",
    "\n",
    "for i in np.arange(npoints):\n",
    "    mol_str = \"H 0 0 0; H 0 0 \"+str(R[i])\n",
    "    s, d, mf, Ekin, e = run_rks(mol_str=mol_str,tau=tau,smear=smear)\n",
    "    occupations.append(s)\n",
    "    energies.append(s)\n",
    "    calculations.append(mf)\n",
    "    if smear:\n",
    "        mTS=-0.3166808991e-5*tau*get_entropy(mf)\n",
    "    else:\n",
    "        mTS = 0.0\n",
    "    print(mTS)\n",
    "    Ekin_KS_tau.append(Ekin)\n",
    "    ener_KS_tau.append(e+mTS)"
   ]
  },
  {
   "cell_type": "code",
   "execution_count": 8,
   "metadata": {},
   "outputs": [
    {
     "name": "stdout",
     "output_type": "stream",
     "text": [
      "converged SCF energy = -1.06330677086093\n",
      "converged SCF energy = -1.13104898043224\n",
      "converged SCF energy = -1.08707872740849\n",
      "converged SCF energy = -1.02926261880808\n",
      "converged SCF energy = -0.976525021657721\n",
      "converged SCF energy = -0.932295135965931\n",
      "converged SCF energy = -0.896263433537805\n",
      "converged SCF energy = -0.867269689665\n",
      "converged SCF energy = -0.84405629079119\n",
      "converged SCF energy = -0.825489700644205\n",
      "converged SCF energy = -0.810630566559902\n",
      "converged SCF energy = -0.798722268706303\n",
      "converged SCF energy = -0.789159342990459\n",
      "converged SCF energy = -0.781455737572377\n",
      "converged SCF energy = -0.775218402534373\n",
      "converged SCF energy = -0.770129324203516\n",
      "converged SCF energy = -0.765933657032088\n",
      "converged SCF energy = -0.762430220584095\n",
      "converged SCF energy = -0.759462607638793\n",
      "converged SCF energy = -0.756910815518384\n"
     ]
    }
   ],
   "source": [
    "occupations = []\n",
    "energies = []\n",
    "calculations = []\n",
    "Ekin_FCI = []\n",
    "ener = []\n",
    "for i in np.arange(npoints):\n",
    "    mol_str = \"H 0 0 0; H 0 0 \"+str(R[i])\n",
    "    s, d, mf, Ekin, e = run_fci(mol_str=mol_str)\n",
    "    occupations.append(s)\n",
    "    energies.append(s)\n",
    "    calculations.append(mf)\n",
    "    Ekin_FCI.append(Ekin)\n",
    "    ener.append(e)"
   ]
  },
  {
   "cell_type": "code",
   "execution_count": null,
   "metadata": {},
   "outputs": [],
   "source": []
  },
  {
   "cell_type": "code",
   "execution_count": null,
   "metadata": {},
   "outputs": [],
   "source": [
    "def plot_world(T_KS,T_KS_tau,T_FCI):\n",
    "    T_KS = np.array(T_KS)\n",
    "    T_KS_tau = np.array(T_KS_tau)\n",
    "    T_FCI = np.array(T_FCI)\n",
    "    plt.plot(R,T_FCI,label='FCI')\n",
    "    plt.plot(R,T_KS,label='KS')\n",
    "    plt.plot(R,T_KS_tau,label='KS_tau')\n",
    "    plt.plot(R,T_KS-T_KS_tau,label=r'$\\Delta$',linestyle='--')\n",
    "    plt.legend()\n",
    "    plt.show()"
   ]
  },
  {
   "cell_type": "code",
   "execution_count": null,
   "metadata": {},
   "outputs": [],
   "source": [
    "plot_world(Ekin_KS,Ekin_KS_tau,Ekin_FCI)"
   ]
  },
  {
   "cell_type": "code",
   "execution_count": null,
   "metadata": {},
   "outputs": [],
   "source": [
    "plot_world(ener_KS,ener_KS_tau,ener)"
   ]
  },
  {
   "cell_type": "code",
   "execution_count": null,
   "metadata": {},
   "outputs": [],
   "source": []
  },
  {
   "cell_type": "code",
   "execution_count": null,
   "metadata": {},
   "outputs": [],
   "source": []
  },
  {
   "cell_type": "code",
   "execution_count": null,
   "metadata": {},
   "outputs": [],
   "source": []
  },
  {
   "cell_type": "markdown",
   "metadata": {},
   "source": [
    "# prototyping natural orbitals"
   ]
  },
  {
   "cell_type": "code",
   "execution_count": null,
   "metadata": {},
   "outputs": [],
   "source": [
    "SVD = lin.svd"
   ]
  },
  {
   "cell_type": "code",
   "execution_count": null,
   "metadata": {},
   "outputs": [],
   "source": [
    "U, s, Vh = SVD(a=rdm1)"
   ]
  },
  {
   "cell_type": "code",
   "execution_count": null,
   "metadata": {},
   "outputs": [],
   "source": [
    "h1_natural = np.dot(Vh.T, np.dot(h1, U.T))"
   ]
  },
  {
   "cell_type": "code",
   "execution_count": null,
   "metadata": {},
   "outputs": [],
   "source": [
    "d = np.zeros(h1_natural.shape[0])\n",
    "s = np.zeros(h1_natural.shape[0])\n",
    "for i in np.arange(h1_natural.shape[0]):\n",
    "    d[i] = h1_natural[i,i]\n",
    "    s[i] = rdm1[i,i]"
   ]
  },
  {
   "cell_type": "code",
   "execution_count": null,
   "metadata": {},
   "outputs": [],
   "source": [
    "plt.scatter(x=d,y=s)\n",
    "plt.show()"
   ]
  }
 ],
 "metadata": {
  "kernelspec": {
   "display_name": "Python 3",
   "language": "python",
   "name": "python3"
  },
  "language_info": {
   "codemirror_mode": {
    "name": "ipython",
    "version": 3
   },
   "file_extension": ".py",
   "mimetype": "text/x-python",
   "name": "python",
   "nbconvert_exporter": "python",
   "pygments_lexer": "ipython3",
   "version": "3.6.8"
  }
 },
 "nbformat": 4,
 "nbformat_minor": 2
}
