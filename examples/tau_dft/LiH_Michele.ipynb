{
 "cells": [
  {
   "cell_type": "markdown",
   "metadata": {},
   "source": [
    "# LiH prototype - energy & rdm1"
   ]
  },
  {
   "cell_type": "code",
   "execution_count": 1,
   "metadata": {},
   "outputs": [],
   "source": [
    "import pyscf\n",
    "from pyscf import gto, scf, dft, ao2mo, fci\n",
    "import numpy as np\n",
    "import scipy.linalg as lin\n",
    "import matplotlib.pyplot as plt"
   ]
  },
  {
   "cell_type": "code",
   "execution_count": 2,
   "metadata": {},
   "outputs": [],
   "source": [
    "HARTREE_TO_eV = 27.311285"
   ]
  },
  {
   "cell_type": "code",
   "execution_count": 3,
   "metadata": {},
   "outputs": [
    {
     "data": {
      "text/plain": [
       "11562.0807045062"
      ]
     },
     "execution_count": 3,
     "metadata": {},
     "output_type": "execute_result"
    }
   ],
   "source": [
    "1.0/(0.3166808991e-5*27.311285)"
   ]
  },
  {
   "cell_type": "code",
   "execution_count": 4,
   "metadata": {},
   "outputs": [],
   "source": [
    "npoints = 30\n",
    "R_begin=0.5\n",
    "R_end=4.5\n",
    "R = np.linspace(start=R_begin,stop=R_end,num=npoints)"
   ]
  },
  {
   "cell_type": "code",
   "execution_count": 5,
   "metadata": {},
   "outputs": [],
   "source": [
    "def get_entropy(mf,mo_occ=None):\n",
    "    if mo_occ is None:\n",
    "        f = mf.get_occ()/2\n",
    "    else:\n",
    "        f = mo_occ\n",
    "    #print(f)\n",
    "    f = f[(f>0) & (f<1)]\n",
    "    return -2*(f*np.log(f) + (1-f)*np.log(1-f)).sum()"
   ]
  },
  {
   "cell_type": "code",
   "execution_count": 34,
   "metadata": {},
   "outputs": [],
   "source": [
    "def run_rks(mol_str,smear=False,tau=500,basis='cc-pVTZ'):\n",
    "    mol = gto.M(atom=mol_str, basis=basis)\n",
    "    mol.smearing = smear\n",
    "    mol.tau = tau\n",
    "    mf = scf.RKS(mol)\n",
    "    mf.xc='PBE'\n",
    "    mf.run()\n",
    "    h1 = mf.mo_coeff.T.dot(mf.get_hcore()).dot(mf.mo_coeff)\n",
    "    rdm1=mf.make_rdm1()\n",
    "    T = mf.mol.intor_symmetric('int1e_kin')\n",
    "    Ekin = np.einsum('pq,qp', T, rdm1)*HARTREE_TO_eV\n",
    "    #print(\"Ts: \", Ekin)\n",
    "    #d = np.zeros(h1.shape[0])\n",
    "    s = mf.get_occ()\n",
    "    #for i in np.arange(h1.shape[0]):\n",
    "    #    d[i] = h1[i,i]\n",
    "    return s, mf, Ekin, mf.energy_tot()*HARTREE_TO_eV"
   ]
  },
  {
   "cell_type": "code",
   "execution_count": 46,
   "metadata": {},
   "outputs": [],
   "source": [
    "def run_fci(mol_str,basis='cc-pVDZ'):\n",
    "    mol = gto.M(atom=mol_str, basis=basis)\n",
    "    mf = scf.RHF(mol)\n",
    "    mf.run()\n",
    "    norb=np.shape(mf.get_occ())[0]\n",
    "    h1 = mf.mo_coeff.T.dot(mf.get_hcore()).dot(mf.mo_coeff)\n",
    "    T = mf.mo_coeff.T.dot(mf.mol.intor_symmetric('int1e_kin')).dot(mf.mo_coeff)\n",
    "    eri = ao2mo.kernel(mol, mf.mo_coeff)\n",
    "    cisolver = fci.direct_spin1.FCI(mol)\n",
    "    e, ci = cisolver.kernel(h1, eri, h1.shape[1], mol.nelec, ecore=mol.energy_nuc())\n",
    "    rdm1=cisolver.make_rdm1(fcivec=ci,norb=norb,nelec=mol.nelec)\n",
    "    Ekin = np.einsum('pq,qp', T, rdm1)*HARTREE_TO_eV\n",
    "    #print(\"exact T: \", Ekin)\n",
    "    #d = np.zeros(h1.shape[0])\n",
    "    s = lin.eigh(rdm1)[0]\n",
    "    #s = np.zeros(h1.shape[0])\n",
    "    #for i in np.arange(h1.shape[0]):\n",
    "    #    #d[i] = h1[i,i]\n",
    "    #    s[i] = rdm1[i,i]\n",
    "    return s, mf, Ekin, e*HARTREE_TO_eV\n"
   ]
  },
  {
   "cell_type": "code",
   "execution_count": 8,
   "metadata": {},
   "outputs": [
    {
     "name": "stdout",
     "output_type": "stream",
     "text": [
      "converged SCF energy = -7.27450810177158\n",
      "converged SCF energy = -7.59895821108364\n",
      "converged SCF energy = -7.78997868302774\n",
      "converged SCF energy = -7.90470186625178\n",
      "converged SCF energy = -7.97295077195478\n",
      "converged SCF energy = -8.01217944488552\n",
      "converged SCF energy = -8.03325388161043\n",
      "converged SCF energy = -8.04295112405662\n",
      "converged SCF energy = -8.04553824310603\n",
      "converged SCF energy = -8.04373974723759\n",
      "converged SCF energy = -8.0392987409936\n",
      "converged SCF energy = -8.03332518078741\n",
      "converged SCF energy = -8.02653361398826\n",
      "converged SCF energy = -8.01939106323124\n",
      "converged SCF energy = -8.01220608161364\n",
      "converged SCF energy = -8.00518119982346\n",
      "converged SCF energy = -7.99844561075707\n",
      "converged SCF energy = -7.99207713953026\n",
      "converged SCF energy = -7.98611771591676\n",
      "converged SCF energy = -7.98058446443004\n",
      "converged SCF energy = -7.97547766981521\n",
      "converged SCF energy = -7.97078656278751\n",
      "converged SCF energy = -7.96649341378398\n",
      "converged SCF energy = -7.96257618590834\n",
      "converged SCF energy = -7.95901065529909\n",
      "converged SCF energy = -7.95577172448879\n",
      "converged SCF energy = -7.95283423029786\n",
      "converged SCF energy = -7.95017385846683\n",
      "converged SCF energy = -7.94776727954318\n",
      "converged SCF energy = -7.94559270666954\n"
     ]
    }
   ],
   "source": [
    "smear = False\n",
    "occupations_KS = []\n",
    "energies_KS = []\n",
    "calculations_KS = []\n",
    "Ekin_KS = []\n",
    "ener_KS = []\n",
    "for i in np.arange(npoints):\n",
    "    mol_str = \"Li 0 0 0; H 0 0 \"+str(R[i])\n",
    "    s, mf, Ekin, e = run_rks(mol_str=mol_str, smear=smear)\n",
    "    occupations_KS.append(s)\n",
    "    calculations_KS.append(mf)\n",
    "    Ekin_KS.append(Ekin)\n",
    "    ener_KS.append(e)"
   ]
  },
  {
   "cell_type": "code",
   "execution_count": 30,
   "metadata": {},
   "outputs": [
    {
     "name": "stdout",
     "output_type": "stream",
     "text": [
      "converged SCF energy = -7.26492203991329\n",
      "-0.4275247392906264\n",
      "converged SCF energy = -7.59328516594548\n",
      "-0.20385153915378312\n",
      "converged SCF energy = -7.78702753475712\n",
      "-0.09836053523395201\n",
      "converged SCF energy = -7.90284697318104\n",
      "-0.06033296488960728\n",
      "converged SCF energy = -7.9714582215622\n",
      "-0.04819050734050675\n",
      "converged SCF energy = -8.01072964818776\n",
      "-0.046816554703851786\n",
      "converged SCF energy = -8.03166063663848\n",
      "-0.05168601703691715\n",
      "converged SCF energy = -8.04106385951082\n",
      "-0.06171461334217284\n",
      "converged SCF energy = -8.04320726679389\n",
      "-0.07706590253228857\n",
      "converged SCF energy = -8.04081149260829\n",
      "-0.09819818954043719\n",
      "converged SCF energy = -8.03563155024569\n",
      "-0.12521723653591615\n",
      "converged SCF energy = -8.02881371859923\n",
      "-0.15755307701523694\n",
      "converged SCF energy = -8.0211260414237\n",
      "-0.19407081507370863\n",
      "converged SCF energy = -8.01309046191572\n",
      "-0.23343655449381628\n",
      "converged SCF energy = -8.00505983294377\n",
      "-0.27442936015155167\n",
      "converged SCF energy = -7.99726655446888\n",
      "-0.31607634016732566\n",
      "converged SCF energy = -7.98985719863984\n",
      "-0.3576553887288079\n",
      "converged SCF energy = -7.9829185014948\n",
      "-0.3986378754754504\n",
      "converged SCF energy = -7.97649659712435\n",
      "-0.4386181303479728\n",
      "converged SCF energy = -7.97061081469072\n",
      "-0.4772479620648807\n",
      "converged SCF energy = -7.96526279870888\n",
      "-0.5141990621598114\n",
      "converged SCF energy = -7.96044247481666\n",
      "-0.5491486736048695\n",
      "converged SCF energy = -7.95613152361822\n",
      "-0.5817921592454464\n",
      "converged SCF energy = -7.95230503371989\n",
      "-0.6118725565233507\n",
      "converged SCF energy = -7.94893311778284\n",
      "-0.6392025796571896\n",
      "converged SCF energy = -7.94598175402629\n",
      "-0.6636887982805009\n",
      "converged SCF energy = -7.94341392191934\n",
      "-0.6853341072584892\n",
      "converged SCF energy = -7.94119125240941\n",
      "-0.7042285849640951\n",
      "converged SCF energy = -7.93927488194801\n",
      "-0.7205387565744648\n",
      "converged SCF energy = -7.93762720252682\n",
      "-0.7344784979263981\n"
     ]
    }
   ],
   "source": [
    "tau = 3500 #11562.0807045062 #KT=1eV\n",
    "smear = True\n",
    "occupations_KS_tau = []\n",
    "energies_KS_tau = []\n",
    "calculations_KS_tau = []\n",
    "Ekin_KS_tau = []\n",
    "ener_KS_tau = []\n",
    "\n",
    "for i in np.arange(npoints):\n",
    "    mol_str = \"Li 0 0 0; H 0 0 \"+str(R[i])\n",
    "    s, mf, Ekin, e = run_rks(mol_str=mol_str,tau=tau,smear=smear)\n",
    "    occupations_KS_tau.append(s)\n",
    "    calculations_KS_tau.append(mf)\n",
    "    if smear:\n",
    "        mTS=-0.3166808991e-5*tau*get_entropy(mf)*HARTREE_TO_eV\n",
    "    else:\n",
    "        mTS = 0.0\n",
    "    print(mTS)\n",
    "    Ekin_KS_tau.append(Ekin)\n",
    "    ener_KS_tau.append(e+mTS)"
   ]
  },
  {
   "cell_type": "code",
   "execution_count": 47,
   "metadata": {},
   "outputs": [
    {
     "name": "stdout",
     "output_type": "stream",
     "text": [
      "converged SCF energy = -7.15955674837856\n",
      "converged SCF energy = -7.50341431065801\n",
      "converged SCF energy = -7.70803613021059\n",
      "converged SCF energy = -7.83120045108855\n",
      "converged SCF energy = -7.9043362261742\n",
      "converged SCF energy = -7.94650947923482\n",
      "converged SCF energy = -7.96945659771586\n",
      "converged SCF energy = -7.98036142532396\n",
      "converged SCF energy = -7.98365674042903\n",
      "converged SCF energy = -7.98213578365709\n",
      "converged SCF energy = -7.97758864872824\n",
      "converged SCF energy = -7.97117781563225\n",
      "converged SCF energy = -7.9636679156875\n",
      "converged SCF energy = -7.95556693035113\n",
      "converged SCF energy = -7.9472138600137\n",
      "converged SCF energy = -7.93883422478843\n",
      "converged SCF energy = -7.93057603590793\n",
      "converged SCF energy = -7.92253378985779\n",
      "converged SCF energy = -7.91476501407374\n",
      "converged SCF energy = -7.9073020000269\n",
      "converged SCF energy = -7.90016021210922\n",
      "converged SCF energy = -7.8933442479159\n",
      "converged SCF energy = -7.88685194614069\n",
      "converged SCF energy = -7.88067711534532\n",
      "converged SCF energy = -7.87481127749647\n",
      "converged SCF energy = -7.86924473916928\n",
      "converged SCF energy = -7.86396721959425\n",
      "converged SCF energy = -7.85896819254733\n",
      "converged SCF energy = -7.85423704846022\n",
      "converged SCF energy = -7.84976315306976\n"
     ]
    }
   ],
   "source": [
    "occupations_FCI = []\n",
    "energies_FCI = []\n",
    "calculations_FCI = []\n",
    "Ekin_FCI = []\n",
    "ener_FCI = []\n",
    "for i in np.arange(npoints):\n",
    "    mol_str = \"Li 0 0 0; H 0 0 \"+str(R[i])\n",
    "    s, mf, Ekin, e = run_fci(mol_str=mol_str)\n",
    "    occupations_FCI.append(s)\n",
    "    calculations_FCI.append(mf)\n",
    "    Ekin_FCI.append(Ekin)\n",
    "    ener_FCI.append(e)\n"
   ]
  },
  {
   "cell_type": "code",
   "execution_count": 48,
   "metadata": {},
   "outputs": [],
   "source": [
    "occupations_FCI = np.array(occupations_FCI,dtype=np.float)\n",
    "occupations_KS = np.array(occupations_KS,dtype=np.float)\n",
    "occupations_KS_tau = np.array(occupations_KS_tau,dtype=np.float)\n",
    "ener_FCI = np.array(ener_FCI,dtype=np.float)\n",
    "ener_KS = np.array(ener_KS,dtype=np.float)\n",
    "ener_KS_tau = np.array(ener_KS_tau,dtype=np.float)\n",
    "Ekin_FCI = np.array(Ekin_FCI,dtype=np.float)\n",
    "Ekin_KS = np.array(Ekin_KS,dtype=np.float)\n",
    "Ekin_KS_tau = np.array(Ekin_KS_tau,dtype=np.float)\n",
    "De_FCI = ener_FCI[-1]-np.min(ener_FCI)\n",
    "De_KS = ener_KS[-1]-np.min(ener_KS)\n",
    "De_KS_tau = ener_KS_tau[-1]-np.min(ener_KS_tau)"
   ]
  },
  {
   "cell_type": "code",
   "execution_count": 49,
   "metadata": {},
   "outputs": [
    {
     "data": {
      "image/png": "[encoded data removed]",
      "text/plain": [
       "<Figure size 864x576 with 4 Axes>"
      ]
     },
     "metadata": {
      "needs_background": "light"
     },
     "output_type": "display_data"
    }
   ],
   "source": [
    "font=11.5\n",
    "fig, ax = plt.subplots(2,2,figsize=(12,8))\n",
    "#\n",
    "ax[0,0].set_ylabel(\"Kinetic Energy / eV\")\n",
    "ax[0,0].plot(R,Ekin_FCI,label=r'FCI',color='black',linestyle='--')\n",
    "ax[0,0].plot(R,Ekin_KS,label=r'$K_B\\tau = 0$ eV',color='black',linestyle=':')\n",
    "ax[0,0].plot(R,Ekin_KS_tau,label=r'$K_B\\tau = 1$ eV',color='black',linestyle='-')\n",
    "#\n",
    "ax[0,1].set_ylabel(\"Total Energy / eV\")\n",
    "ax[0,1].plot(R,ener_FCI,label=r'FCI',color='black',linestyle='--')\n",
    "ax[0,1].plot(R,ener_KS,label=r'$K_B\\tau = 0$ eV',color='black',linestyle=':')\n",
    "ax[0,1].plot(R,ener_KS_tau,label=r'$K_B\\tau = 1$ eV',color='black',linestyle='-')\n",
    "#\n",
    "ax[1,0].set_ylabel(\"HOMO Occupation\")\n",
    "ax[1,0].plot(R,occupations_FCI[:,-2],label=r'FCI',color='black',linestyle='--')\n",
    "ax[1,0].plot(R,occupations_KS[:,1],label=r'$K_B\\tau = 0$ eV',color='black',linestyle=':')\n",
    "ax[1,0].plot(R,occupations_KS_tau[:,1],label=r'$K_B\\tau = 1$ eV',color='black',linestyle='-')\n",
    "#ax[1,0].set_ylim([0.5,2.5])\n",
    "#\n",
    "ax[1,1].set_ylabel(\"Entropy / eV\")\n",
    "entropy_KS = np.zeros(npoints)\n",
    "entropy_KS_tau = np.zeros(npoints)\n",
    "entropy_FCI = np.zeros(npoints)\n",
    "for i in range(npoints):\n",
    "    #entropy_KS[i]=-0.3166808991e-5*tau*get_entropy(calculations_KS_tau[i])\n",
    "    entropy_KS_tau[i]=-0.3166808991e-5*tau*get_entropy(calculations_KS_tau[i])*HARTREE_TO_eV\n",
    "    entropy_FCI[i]=-0.3166808991e-5*tau*get_entropy(calculations_FCI[i],occupations_FCI[i,:])*HARTREE_TO_eV\n",
    "\n",
    "ax[1,1].plot(R,entropy_FCI,label=r'FCI',color='black',linestyle='--')\n",
    "ax[1,1].plot(R,entropy_KS,label=r'$K_B\\tau = 0$ eV',color='black',linestyle=':')\n",
    "ax[1,1].plot(R,entropy_KS_tau,label=r'$K_B\\tau = 1$ eV',color='black',linestyle='-')\n",
    "\n",
    "ax[0,0].legend(fontsize=font)\n",
    "#for i in 0, 1:\n",
    "#    for j in 0, 1:\n",
    "#        ax[i,j].legend(fontsize=font)\n",
    "plt.show()"
   ]
  },
  {
   "cell_type": "code",
   "execution_count": 50,
   "metadata": {},
   "outputs": [
    {
     "name": "stdout",
     "output_type": "stream",
     "text": [
      "0.5049454585918909 0.0014190586194615662 2.224695571502906\n"
     ]
    }
   ],
   "source": [
    "print(De_KS-De_FCI,De_KS_tau-De_FCI,De_FCI)"
   ]
  },
  {
   "cell_type": "code",
   "execution_count": null,
   "metadata": {},
   "outputs": [],
   "source": []
  },
  {
   "cell_type": "markdown",
   "metadata": {},
   "source": [
    "# prototyping natural orbitals"
   ]
  },
  {
   "cell_type": "code",
   "execution_count": 13,
   "metadata": {},
   "outputs": [],
   "source": [
    "SVD = lin.svd"
   ]
  },
  {
   "cell_type": "code",
   "execution_count": 14,
   "metadata": {},
   "outputs": [
    {
     "ename": "NameError",
     "evalue": "name 'rdm1' is not defined",
     "output_type": "error",
     "traceback": [
      "\u001b[0;31m---------------------------------------------------------------------------\u001b[0m",
      "\u001b[0;31mNameError\u001b[0m                                 Traceback (most recent call last)",
      "\u001b[0;32m<ipython-input-14-48b2b15c1fc7>\u001b[0m in \u001b[0;36m<module>\u001b[0;34m\u001b[0m\n\u001b[0;32m----> 1\u001b[0;31m \u001b[0mU\u001b[0m\u001b[0;34m,\u001b[0m \u001b[0ms\u001b[0m\u001b[0;34m,\u001b[0m \u001b[0mVh\u001b[0m \u001b[0;34m=\u001b[0m \u001b[0mSVD\u001b[0m\u001b[0;34m(\u001b[0m\u001b[0ma\u001b[0m\u001b[0;34m=\u001b[0m\u001b[0mrdm1\u001b[0m\u001b[0;34m)\u001b[0m\u001b[0;34m\u001b[0m\u001b[0;34m\u001b[0m\u001b[0m\n\u001b[0m",
      "\u001b[0;31mNameError\u001b[0m: name 'rdm1' is not defined"
     ]
    }
   ],
   "source": [
    "U, s, Vh = SVD(a=rdm1)"
   ]
  },
  {
   "cell_type": "code",
   "execution_count": null,
   "metadata": {},
   "outputs": [],
   "source": [
    "h1_natural = np.dot(Vh.T, np.dot(h1, U.T))"
   ]
  },
  {
   "cell_type": "code",
   "execution_count": null,
   "metadata": {},
   "outputs": [],
   "source": [
    "d = np.zeros(h1_natural.shape[0])\n",
    "s = np.zeros(h1_natural.shape[0])\n",
    "for i in np.arange(h1_natural.shape[0]):\n",
    "    d[i] = h1_natural[i,i]\n",
    "    s[i] = rdm1[i,i]"
   ]
  },
  {
   "cell_type": "code",
   "execution_count": null,
   "metadata": {},
   "outputs": [],
   "source": [
    "plt.scatter(x=d,y=s)\n",
    "plt.show()"
   ]
  },
  {
   "cell_type": "code",
   "execution_count": null,
   "metadata": {},
   "outputs": [],
   "source": [
    "from scipy.optimize import minimize"
   ]
  },
  {
   "cell_type": "code",
   "execution_count": null,
   "metadata": {},
   "outputs": [],
   "source": [
    "minimize()"
   ]
  }
 ],
 "metadata": {
  "kernelspec": {
   "display_name": "Python 3",
   "language": "python",
   "name": "python3"
  },
  "language_info": {
   "codemirror_mode": {
    "name": "ipython",
    "version": 3
   },
   "file_extension": ".py",
   "mimetype": "text/x-python",
   "name": "python",
   "nbconvert_exporter": "python",
   "pygments_lexer": "ipython3",
   "version": "3.6.8"
  }
 },
 "nbformat": 4,
 "nbformat_minor": 2
}
